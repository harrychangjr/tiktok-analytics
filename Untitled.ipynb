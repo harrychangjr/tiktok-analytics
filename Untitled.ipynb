{
 "cells": [
  {
   "cell_type": "code",
   "execution_count": 5,
   "id": "89db8824",
   "metadata": {},
   "outputs": [
    {
     "name": "stdout",
     "output_type": "stream",
     "text": [
      "Collecting PyTikTokAPI\n",
      "  Downloading PyTikTokAPI-0.0.5.tar.gz (57 kB)\n",
      "\u001b[2K     \u001b[90m━━━━━━━━━━━━━━━━━━━━━━━━━━━━━━━━━━━━━━━━\u001b[0m \u001b[32m57.9/57.9 kB\u001b[0m \u001b[31m4.4 MB/s\u001b[0m eta \u001b[36m0:00:00\u001b[0m\n",
      "\u001b[?25h  Preparing metadata (setup.py) ... \u001b[?25ldone\n",
      "\u001b[?25hRequirement already satisfied: requests in /Users/harrychang/opt/anaconda3/lib/python3.8/site-packages (from PyTikTokAPI) (2.25.1)\n",
      "Collecting pyppeteer\n",
      "  Downloading pyppeteer-1.0.2-py3-none-any.whl (83 kB)\n",
      "\u001b[2K     \u001b[90m━━━━━━━━━━━━━━━━━━━━━━━━━━━━━━━━━━━━━━━━\u001b[0m \u001b[32m83.4/83.4 kB\u001b[0m \u001b[31m4.5 MB/s\u001b[0m eta \u001b[36m0:00:00\u001b[0m\n",
      "\u001b[?25hCollecting pyppeteer_stealth\n",
      "  Downloading pyppeteer_stealth-2.7.4.tar.gz (21 kB)\n",
      "  Preparing metadata (setup.py) ... \u001b[?25ldone\n",
      "\u001b[?25hRequirement already satisfied: certifi>=2021 in /Users/harrychang/opt/anaconda3/lib/python3.8/site-packages (from pyppeteer->PyTikTokAPI) (2021.10.8)\n",
      "Requirement already satisfied: tqdm<5.0.0,>=4.42.1 in /Users/harrychang/opt/anaconda3/lib/python3.8/site-packages (from pyppeteer->PyTikTokAPI) (4.59.0)\n",
      "Requirement already satisfied: urllib3<2.0.0,>=1.25.8 in /Users/harrychang/opt/anaconda3/lib/python3.8/site-packages (from pyppeteer->PyTikTokAPI) (1.26.4)\n",
      "Requirement already satisfied: importlib-metadata>=1.4 in /Users/harrychang/opt/anaconda3/lib/python3.8/site-packages (from pyppeteer->PyTikTokAPI) (6.1.0)\n",
      "Requirement already satisfied: appdirs<2.0.0,>=1.4.3 in /Users/harrychang/opt/anaconda3/lib/python3.8/site-packages (from pyppeteer->PyTikTokAPI) (1.4.4)\n",
      "Collecting pyee<9.0.0,>=8.1.0\n",
      "  Downloading pyee-8.2.2-py2.py3-none-any.whl (12 kB)\n",
      "Collecting websockets<11.0,>=10.0\n",
      "  Downloading websockets-10.4-cp38-cp38-macosx_10_9_x86_64.whl (97 kB)\n",
      "\u001b[2K     \u001b[90m━━━━━━━━━━━━━━━━━━━━━━━━━━━━━━━━━━━━━━━━\u001b[0m \u001b[32m97.9/97.9 kB\u001b[0m \u001b[31m7.6 MB/s\u001b[0m eta \u001b[36m0:00:00\u001b[0m\n",
      "\u001b[?25hRequirement already satisfied: idna<3,>=2.5 in /Users/harrychang/opt/anaconda3/lib/python3.8/site-packages (from requests->PyTikTokAPI) (2.10)\n",
      "Requirement already satisfied: chardet<5,>=3.0.2 in /Users/harrychang/opt/anaconda3/lib/python3.8/site-packages (from requests->PyTikTokAPI) (4.0.0)\n",
      "Requirement already satisfied: zipp>=0.5 in /Users/harrychang/opt/anaconda3/lib/python3.8/site-packages (from importlib-metadata>=1.4->pyppeteer->PyTikTokAPI) (3.4.1)\n",
      "Building wheels for collected packages: PyTikTokAPI, pyppeteer_stealth\n",
      "  Building wheel for PyTikTokAPI (setup.py) ... \u001b[?25ldone\n",
      "\u001b[?25h  Created wheel for PyTikTokAPI: filename=PyTikTokAPI-0.0.5-py3-none-any.whl size=56538 sha256=dc5bb67b673a48cd199cf278bfc2e0d2d3d6c367721d68867b054e23f3630649\n",
      "  Stored in directory: /Users/harrychang/Library/Caches/pip/wheels/d2/ae/f6/839bbbe3deb93bf4b5a4382d0ac878e7ce461e9924f3ba70ba\n",
      "  Building wheel for pyppeteer_stealth (setup.py) ... \u001b[?25ldone\n",
      "\u001b[?25h  Created wheel for pyppeteer_stealth: filename=pyppeteer_stealth-2.7.4-py3-none-any.whl size=32138 sha256=cb960b4bbb100802e5de1f41aa4238233e7c8aa16c18d7a1939237bac8e73536\n",
      "  Stored in directory: /Users/harrychang/Library/Caches/pip/wheels/04/6c/a9/5766baa0b0b96f8c530ecb4f03523cd5a1bd01d65e5eb3af1b\n",
      "Successfully built PyTikTokAPI pyppeteer_stealth\n",
      "Installing collected packages: pyppeteer_stealth, pyee, websockets, pyppeteer, PyTikTokAPI\n",
      "\u001b[33m  WARNING: The script pyppeteer-install is installed in '/Users/harrychang/.local/bin' which is not on PATH.\n",
      "  Consider adding this directory to PATH or, if you prefer to suppress this warning, use --no-warn-script-location.\u001b[0m\u001b[33m\n",
      "\u001b[0m\u001b[31mERROR: pip's dependency resolver does not currently take into account all the packages that are installed. This behaviour is the source of the following dependency conflicts.\n",
      "playwright 1.32.1 requires pyee==9.0.4, but you have pyee 8.2.2 which is incompatible.\u001b[0m\u001b[31m\n",
      "\u001b[0mSuccessfully installed PyTikTokAPI-0.0.5 pyee-8.2.2 pyppeteer-1.0.2 pyppeteer_stealth-2.7.4 websockets-10.4\n"
     ]
    },
    {
     "name": "stderr",
     "output_type": "stream",
     "text": [
      "Exception ignored in: <function TikTokApi.__del__ at 0x7fca28bf3d30>\n",
      "Traceback (most recent call last):\n",
      "  File \"/Users/harrychang/opt/anaconda3/lib/python3.8/site-packages/TikTokApi/tiktok.py\", line 421, in __del__\n",
      "    self.shutdown()\n",
      "  File \"/Users/harrychang/opt/anaconda3/lib/python3.8/site-packages/TikTokApi/tiktok.py\", line 635, in shutdown\n",
      "    asyncio.get_event_loop().run_until_complete(self._browser._clean_up())\n",
      "AttributeError: 'TikTokApi' object has no attribute '_browser'\n",
      "_GatheringFuture exception was never retrieved\n",
      "future: <_GatheringFuture finished exception=Error(\"Executable doesn't exist at /Users/harrychang/Library/Caches/ms-playwright/webkit-1811/pw_run.sh\\n╔════════════════════════════════════════════════════════════╗\\n║ Looks like Playwright was just installed or updated.       ║\\n║ Please run the following command to download new browsers: ║\\n║                                                            ║\\n║     playwright install                                     ║\\n║                                                            ║\\n║ <3 Playwright Team                                         ║\\n╚════════════════════════════════════════════════════════════╝\")>\n",
      "Traceback (most recent call last):\n",
      "  File \"/Users/harrychang/opt/anaconda3/lib/python3.8/site-packages/TikTokApi/browser_utilities/browser.py\", line 76, in create\n",
      "    self.browser = await self.playwright.webkit.launch(\n",
      "  File \"/Users/harrychang/opt/anaconda3/lib/python3.8/site-packages/playwright/async_api/_generated.py\", line 14412, in launch\n",
      "    await self._impl_obj.launch(\n",
      "  File \"/Users/harrychang/opt/anaconda3/lib/python3.8/site-packages/playwright/_impl/_browser_type.py\", line 93, in launch\n",
      "    Browser, from_channel(await self._channel.send(\"launch\", params))\n",
      "  File \"/Users/harrychang/opt/anaconda3/lib/python3.8/site-packages/playwright/_impl/_connection.py\", line 61, in send\n",
      "    return await self._connection.wrap_api_call(\n",
      "  File \"/Users/harrychang/opt/anaconda3/lib/python3.8/site-packages/playwright/_impl/_connection.py\", line 461, in wrap_api_call\n",
      "    return await cb()\n",
      "  File \"/Users/harrychang/opt/anaconda3/lib/python3.8/site-packages/playwright/_impl/_connection.py\", line 96, in inner_send\n",
      "    result = next(iter(done)).result()\n",
      "playwright._impl._api_types.Error: Executable doesn't exist at /Users/harrychang/Library/Caches/ms-playwright/webkit-1811/pw_run.sh\n",
      "╔════════════════════════════════════════════════════════════╗\n",
      "║ Looks like Playwright was just installed or updated.       ║\n",
      "║ Please run the following command to download new browsers: ║\n",
      "║                                                            ║\n",
      "║     playwright install                                     ║\n",
      "║                                                            ║\n",
      "║ <3 Playwright Team                                         ║\n",
      "╚════════════════════════════════════════════════════════════╝\n"
     ]
    }
   ],
   "source": [
    "try:\n",
    "    from TikTokAPI import TikTokAPI\n",
    "except:\n",
    "    !pip install --user PyTikTokAPI\n",
    "    from TikTokAPI import TikTokAPI\n",
    "import nest_asyncio\n",
    "import pandas as pd"
   ]
  },
  {
   "cell_type": "code",
   "execution_count": 7,
   "id": "44721fb9",
   "metadata": {},
   "outputs": [],
   "source": [
    "nest_asyncio.apply()"
   ]
  },
  {
   "cell_type": "code",
   "execution_count": 8,
   "id": "886cb423",
   "metadata": {},
   "outputs": [],
   "source": [
    "#tt web id 6825408079360001549\n",
    "#ss v web id verify_ka1vbe1k_GubxxV1k_sbBs_4GJN_97J3_d9DEaAlScSnw\n",
    "# Cookies\n",
    "cookie = {\n",
    "    \"s_v_web_id\": \"verify_ka1vbe1k_GubxxV1k_sbBs_4GJN_97J3_d9DEaAlScSnw\",\n",
    "    \"tt_webid\": \"6825408079360001549\",\n",
    "}\n",
    "\n",
    "# Username\n",
    "username = \"questhireahero\""
   ]
  },
  {
   "cell_type": "code",
   "execution_count": 11,
   "id": "73dc26d0",
   "metadata": {},
   "outputs": [],
   "source": [
    "api = TikTokAPI(cookie=cookie)"
   ]
  },
  {
   "cell_type": "code",
   "execution_count": 12,
   "id": "e5eb48cb",
   "metadata": {},
   "outputs": [],
   "source": [
    "def get_user_stats(username):\n",
    "    # Get user details\n",
    "    \"\"\"\n",
    "    User detail fields : video count, follower count, following count, heart count\n",
    "    \"\"\"\n",
    "\n",
    "    user_obj = api.getUserByName(username)\n",
    "    user_video_count = user_obj[\"userInfo\"][\"stats\"][\"videoCount\"]\n",
    "    user_follower_count = user_obj[\"userInfo\"][\"stats\"][\"followerCount\"]\n",
    "    user_following_count = user_obj[\"userInfo\"][\"stats\"][\"followingCount\"]\n",
    "    user_heart_count = user_obj[\"userInfo\"][\"stats\"][\"heartCount\"]\n",
    "\n",
    "    user_stats = {\n",
    "        \"user_video_count\": user_video_count,\n",
    "        \"user_follower_count\": user_follower_count,\n",
    "        \"user_following_count\": user_following_count,\n",
    "        \"user_heart_count\": user_heart_count,\n",
    "    }\n",
    "    return user_stats"
   ]
  },
  {
   "cell_type": "code",
   "execution_count": 14,
   "id": "531fae5d",
   "metadata": {},
   "outputs": [
    {
     "ename": "JSONDecodeError",
     "evalue": "Expecting value: line 1 column 1 (char 0)",
     "output_type": "error",
     "traceback": [
      "\u001b[0;31m---------------------------------------------------------------------------\u001b[0m",
      "\u001b[0;31mJSONDecodeError\u001b[0m                           Traceback (most recent call last)",
      "\u001b[0;32m<ipython-input-14-79341707a4e7>\u001b[0m in \u001b[0;36m<module>\u001b[0;34m\u001b[0m\n\u001b[0;32m----> 1\u001b[0;31m \u001b[0mdf_stats\u001b[0m \u001b[0;34m=\u001b[0m \u001b[0mget_user_stats\u001b[0m\u001b[0;34m(\u001b[0m\u001b[0musername\u001b[0m\u001b[0;34m)\u001b[0m\u001b[0;34m\u001b[0m\u001b[0;34m\u001b[0m\u001b[0m\n\u001b[0m\u001b[1;32m      2\u001b[0m \u001b[0mdf_stats\u001b[0m\u001b[0;34m\u001b[0m\u001b[0;34m\u001b[0m\u001b[0m\n",
      "\u001b[0;32m<ipython-input-12-d19597961f33>\u001b[0m in \u001b[0;36mget_user_stats\u001b[0;34m(username)\u001b[0m\n\u001b[1;32m      5\u001b[0m     \"\"\"\n\u001b[1;32m      6\u001b[0m \u001b[0;34m\u001b[0m\u001b[0m\n\u001b[0;32m----> 7\u001b[0;31m     \u001b[0muser_obj\u001b[0m \u001b[0;34m=\u001b[0m \u001b[0mapi\u001b[0m\u001b[0;34m.\u001b[0m\u001b[0mgetUserByName\u001b[0m\u001b[0;34m(\u001b[0m\u001b[0musername\u001b[0m\u001b[0;34m)\u001b[0m\u001b[0;34m\u001b[0m\u001b[0;34m\u001b[0m\u001b[0m\n\u001b[0m\u001b[1;32m      8\u001b[0m     \u001b[0muser_video_count\u001b[0m \u001b[0;34m=\u001b[0m \u001b[0muser_obj\u001b[0m\u001b[0;34m[\u001b[0m\u001b[0;34m\"userInfo\"\u001b[0m\u001b[0;34m]\u001b[0m\u001b[0;34m[\u001b[0m\u001b[0;34m\"stats\"\u001b[0m\u001b[0;34m]\u001b[0m\u001b[0;34m[\u001b[0m\u001b[0;34m\"videoCount\"\u001b[0m\u001b[0;34m]\u001b[0m\u001b[0;34m\u001b[0m\u001b[0;34m\u001b[0m\u001b[0m\n\u001b[1;32m      9\u001b[0m     \u001b[0muser_follower_count\u001b[0m \u001b[0;34m=\u001b[0m \u001b[0muser_obj\u001b[0m\u001b[0;34m[\u001b[0m\u001b[0;34m\"userInfo\"\u001b[0m\u001b[0;34m]\u001b[0m\u001b[0;34m[\u001b[0m\u001b[0;34m\"stats\"\u001b[0m\u001b[0;34m]\u001b[0m\u001b[0;34m[\u001b[0m\u001b[0;34m\"followerCount\"\u001b[0m\u001b[0;34m]\u001b[0m\u001b[0;34m\u001b[0m\u001b[0;34m\u001b[0m\u001b[0m\n",
      "\u001b[0;32m~/.local/lib/python3.8/site-packages/TikTokAPI/tiktokapi.py\u001b[0m in \u001b[0;36mgetUserByName\u001b[0;34m(self, user_name)\u001b[0m\n\u001b[1;32m    112\u001b[0m         \u001b[0;32mfor\u001b[0m \u001b[0mkey\u001b[0m\u001b[0;34m,\u001b[0m \u001b[0mval\u001b[0m \u001b[0;32min\u001b[0m \u001b[0mself\u001b[0m\u001b[0;34m.\u001b[0m\u001b[0mdefault_params\u001b[0m\u001b[0;34m.\u001b[0m\u001b[0mitems\u001b[0m\u001b[0;34m(\u001b[0m\u001b[0;34m)\u001b[0m\u001b[0;34m:\u001b[0m\u001b[0;34m\u001b[0m\u001b[0;34m\u001b[0m\u001b[0m\n\u001b[1;32m    113\u001b[0m             \u001b[0mparams\u001b[0m\u001b[0;34m[\u001b[0m\u001b[0mkey\u001b[0m\u001b[0;34m]\u001b[0m \u001b[0;34m=\u001b[0m \u001b[0mval\u001b[0m\u001b[0;34m\u001b[0m\u001b[0;34m\u001b[0m\u001b[0m\n\u001b[0;32m--> 114\u001b[0;31m         \u001b[0;32mreturn\u001b[0m \u001b[0mself\u001b[0m\u001b[0;34m.\u001b[0m\u001b[0msend_get_request\u001b[0m\u001b[0;34m(\u001b[0m\u001b[0murl\u001b[0m\u001b[0;34m,\u001b[0m \u001b[0mparams\u001b[0m\u001b[0;34m)\u001b[0m\u001b[0;34m\u001b[0m\u001b[0;34m\u001b[0m\u001b[0m\n\u001b[0m\u001b[1;32m    115\u001b[0m \u001b[0;34m\u001b[0m\u001b[0m\n\u001b[1;32m    116\u001b[0m     \u001b[0;32mdef\u001b[0m \u001b[0mgetVideosByUserName\u001b[0m\u001b[0;34m(\u001b[0m\u001b[0mself\u001b[0m\u001b[0;34m,\u001b[0m \u001b[0muser_name\u001b[0m\u001b[0;34m,\u001b[0m \u001b[0mcount\u001b[0m\u001b[0;34m=\u001b[0m\u001b[0;36m30\u001b[0m\u001b[0;34m)\u001b[0m\u001b[0;34m:\u001b[0m\u001b[0;34m\u001b[0m\u001b[0;34m\u001b[0m\u001b[0m\n",
      "\u001b[0;32m~/.local/lib/python3.8/site-packages/TikTokAPI/tiktokapi.py\u001b[0m in \u001b[0;36msend_get_request\u001b[0;34m(self, url, params, extra_headers)\u001b[0m\n\u001b[1;32m     82\u001b[0m             \u001b[0;32mfor\u001b[0m \u001b[0mkey\u001b[0m\u001b[0;34m,\u001b[0m \u001b[0mval\u001b[0m \u001b[0;32min\u001b[0m \u001b[0mself\u001b[0m\u001b[0;34m.\u001b[0m\u001b[0mheaders\u001b[0m\u001b[0;34m.\u001b[0m\u001b[0mitems\u001b[0m\u001b[0;34m(\u001b[0m\u001b[0;34m)\u001b[0m\u001b[0;34m:\u001b[0m\u001b[0;34m\u001b[0m\u001b[0;34m\u001b[0m\u001b[0m\n\u001b[1;32m     83\u001b[0m                 \u001b[0mheaders\u001b[0m\u001b[0;34m[\u001b[0m\u001b[0mkey\u001b[0m\u001b[0;34m]\u001b[0m \u001b[0;34m=\u001b[0m \u001b[0mval\u001b[0m\u001b[0;34m\u001b[0m\u001b[0;34m\u001b[0m\u001b[0m\n\u001b[0;32m---> 84\u001b[0;31m         \u001b[0mdata\u001b[0m \u001b[0;34m=\u001b[0m \u001b[0mget_req_json\u001b[0m\u001b[0;34m(\u001b[0m\u001b[0murl\u001b[0m\u001b[0;34m,\u001b[0m \u001b[0mparams\u001b[0m\u001b[0;34m=\u001b[0m\u001b[0;32mNone\u001b[0m\u001b[0;34m,\u001b[0m \u001b[0mheaders\u001b[0m\u001b[0;34m=\u001b[0m\u001b[0mself\u001b[0m\u001b[0;34m.\u001b[0m\u001b[0mheaders\u001b[0m\u001b[0;34m)\u001b[0m\u001b[0;34m\u001b[0m\u001b[0;34m\u001b[0m\u001b[0m\n\u001b[0m\u001b[1;32m     85\u001b[0m         \u001b[0;32mreturn\u001b[0m \u001b[0mdata\u001b[0m\u001b[0;34m\u001b[0m\u001b[0;34m\u001b[0m\u001b[0m\n\u001b[1;32m     86\u001b[0m \u001b[0;34m\u001b[0m\u001b[0m\n",
      "\u001b[0;32m~/.local/lib/python3.8/site-packages/TikTokAPI/utils.py\u001b[0m in \u001b[0;36mget_req_json\u001b[0;34m(url, params, headers)\u001b[0m\n\u001b[1;32m     27\u001b[0m     \u001b[0mheaders\u001b[0m\u001b[0;34m[\u001b[0m\u001b[0;34m\"Host\"\u001b[0m\u001b[0;34m]\u001b[0m \u001b[0;34m=\u001b[0m \u001b[0murl\u001b[0m\u001b[0;34m.\u001b[0m\u001b[0msplit\u001b[0m\u001b[0;34m(\u001b[0m\u001b[0;34m\"/\"\u001b[0m\u001b[0;34m)\u001b[0m\u001b[0;34m[\u001b[0m\u001b[0;36m2\u001b[0m\u001b[0;34m]\u001b[0m\u001b[0;34m\u001b[0m\u001b[0;34m\u001b[0m\u001b[0m\n\u001b[1;32m     28\u001b[0m     \u001b[0mr\u001b[0m \u001b[0;34m=\u001b[0m \u001b[0mrequests\u001b[0m\u001b[0;34m.\u001b[0m\u001b[0mget\u001b[0m\u001b[0;34m(\u001b[0m\u001b[0murl\u001b[0m\u001b[0;34m,\u001b[0m \u001b[0mparams\u001b[0m\u001b[0;34m=\u001b[0m\u001b[0mparams\u001b[0m\u001b[0;34m,\u001b[0m \u001b[0mheaders\u001b[0m\u001b[0;34m=\u001b[0m\u001b[0mheaders\u001b[0m\u001b[0;34m)\u001b[0m\u001b[0;34m\u001b[0m\u001b[0;34m\u001b[0m\u001b[0m\n\u001b[0;32m---> 29\u001b[0;31m     \u001b[0;32mreturn\u001b[0m \u001b[0mjson\u001b[0m\u001b[0;34m.\u001b[0m\u001b[0mloads\u001b[0m\u001b[0;34m(\u001b[0m\u001b[0mr\u001b[0m\u001b[0;34m.\u001b[0m\u001b[0mtext\u001b[0m\u001b[0;34m)\u001b[0m\u001b[0;34m\u001b[0m\u001b[0;34m\u001b[0m\u001b[0m\n\u001b[0m\u001b[1;32m     30\u001b[0m \u001b[0;34m\u001b[0m\u001b[0m\n\u001b[1;32m     31\u001b[0m \u001b[0;34m\u001b[0m\u001b[0m\n",
      "\u001b[0;32m~/opt/anaconda3/lib/python3.8/json/__init__.py\u001b[0m in \u001b[0;36mloads\u001b[0;34m(s, cls, object_hook, parse_float, parse_int, parse_constant, object_pairs_hook, **kw)\u001b[0m\n\u001b[1;32m    355\u001b[0m             \u001b[0mparse_int\u001b[0m \u001b[0;32mis\u001b[0m \u001b[0;32mNone\u001b[0m \u001b[0;32mand\u001b[0m \u001b[0mparse_float\u001b[0m \u001b[0;32mis\u001b[0m \u001b[0;32mNone\u001b[0m \u001b[0;32mand\u001b[0m\u001b[0;34m\u001b[0m\u001b[0;34m\u001b[0m\u001b[0m\n\u001b[1;32m    356\u001b[0m             parse_constant is None and object_pairs_hook is None and not kw):\n\u001b[0;32m--> 357\u001b[0;31m         \u001b[0;32mreturn\u001b[0m \u001b[0m_default_decoder\u001b[0m\u001b[0;34m.\u001b[0m\u001b[0mdecode\u001b[0m\u001b[0;34m(\u001b[0m\u001b[0ms\u001b[0m\u001b[0;34m)\u001b[0m\u001b[0;34m\u001b[0m\u001b[0;34m\u001b[0m\u001b[0m\n\u001b[0m\u001b[1;32m    358\u001b[0m     \u001b[0;32mif\u001b[0m \u001b[0mcls\u001b[0m \u001b[0;32mis\u001b[0m \u001b[0;32mNone\u001b[0m\u001b[0;34m:\u001b[0m\u001b[0;34m\u001b[0m\u001b[0;34m\u001b[0m\u001b[0m\n\u001b[1;32m    359\u001b[0m         \u001b[0mcls\u001b[0m \u001b[0;34m=\u001b[0m \u001b[0mJSONDecoder\u001b[0m\u001b[0;34m\u001b[0m\u001b[0;34m\u001b[0m\u001b[0m\n",
      "\u001b[0;32m~/opt/anaconda3/lib/python3.8/json/decoder.py\u001b[0m in \u001b[0;36mdecode\u001b[0;34m(self, s, _w)\u001b[0m\n\u001b[1;32m    335\u001b[0m \u001b[0;34m\u001b[0m\u001b[0m\n\u001b[1;32m    336\u001b[0m         \"\"\"\n\u001b[0;32m--> 337\u001b[0;31m         \u001b[0mobj\u001b[0m\u001b[0;34m,\u001b[0m \u001b[0mend\u001b[0m \u001b[0;34m=\u001b[0m \u001b[0mself\u001b[0m\u001b[0;34m.\u001b[0m\u001b[0mraw_decode\u001b[0m\u001b[0;34m(\u001b[0m\u001b[0ms\u001b[0m\u001b[0;34m,\u001b[0m \u001b[0midx\u001b[0m\u001b[0;34m=\u001b[0m\u001b[0m_w\u001b[0m\u001b[0;34m(\u001b[0m\u001b[0ms\u001b[0m\u001b[0;34m,\u001b[0m \u001b[0;36m0\u001b[0m\u001b[0;34m)\u001b[0m\u001b[0;34m.\u001b[0m\u001b[0mend\u001b[0m\u001b[0;34m(\u001b[0m\u001b[0;34m)\u001b[0m\u001b[0;34m)\u001b[0m\u001b[0;34m\u001b[0m\u001b[0;34m\u001b[0m\u001b[0m\n\u001b[0m\u001b[1;32m    338\u001b[0m         \u001b[0mend\u001b[0m \u001b[0;34m=\u001b[0m \u001b[0m_w\u001b[0m\u001b[0;34m(\u001b[0m\u001b[0ms\u001b[0m\u001b[0;34m,\u001b[0m \u001b[0mend\u001b[0m\u001b[0;34m)\u001b[0m\u001b[0;34m.\u001b[0m\u001b[0mend\u001b[0m\u001b[0;34m(\u001b[0m\u001b[0;34m)\u001b[0m\u001b[0;34m\u001b[0m\u001b[0;34m\u001b[0m\u001b[0m\n\u001b[1;32m    339\u001b[0m         \u001b[0;32mif\u001b[0m \u001b[0mend\u001b[0m \u001b[0;34m!=\u001b[0m \u001b[0mlen\u001b[0m\u001b[0;34m(\u001b[0m\u001b[0ms\u001b[0m\u001b[0;34m)\u001b[0m\u001b[0;34m:\u001b[0m\u001b[0;34m\u001b[0m\u001b[0;34m\u001b[0m\u001b[0m\n",
      "\u001b[0;32m~/opt/anaconda3/lib/python3.8/json/decoder.py\u001b[0m in \u001b[0;36mraw_decode\u001b[0;34m(self, s, idx)\u001b[0m\n\u001b[1;32m    353\u001b[0m             \u001b[0mobj\u001b[0m\u001b[0;34m,\u001b[0m \u001b[0mend\u001b[0m \u001b[0;34m=\u001b[0m \u001b[0mself\u001b[0m\u001b[0;34m.\u001b[0m\u001b[0mscan_once\u001b[0m\u001b[0;34m(\u001b[0m\u001b[0ms\u001b[0m\u001b[0;34m,\u001b[0m \u001b[0midx\u001b[0m\u001b[0;34m)\u001b[0m\u001b[0;34m\u001b[0m\u001b[0;34m\u001b[0m\u001b[0m\n\u001b[1;32m    354\u001b[0m         \u001b[0;32mexcept\u001b[0m \u001b[0mStopIteration\u001b[0m \u001b[0;32mas\u001b[0m \u001b[0merr\u001b[0m\u001b[0;34m:\u001b[0m\u001b[0;34m\u001b[0m\u001b[0;34m\u001b[0m\u001b[0m\n\u001b[0;32m--> 355\u001b[0;31m             \u001b[0;32mraise\u001b[0m \u001b[0mJSONDecodeError\u001b[0m\u001b[0;34m(\u001b[0m\u001b[0;34m\"Expecting value\"\u001b[0m\u001b[0;34m,\u001b[0m \u001b[0ms\u001b[0m\u001b[0;34m,\u001b[0m \u001b[0merr\u001b[0m\u001b[0;34m.\u001b[0m\u001b[0mvalue\u001b[0m\u001b[0;34m)\u001b[0m \u001b[0;32mfrom\u001b[0m \u001b[0;32mNone\u001b[0m\u001b[0;34m\u001b[0m\u001b[0;34m\u001b[0m\u001b[0m\n\u001b[0m\u001b[1;32m    356\u001b[0m         \u001b[0;32mreturn\u001b[0m \u001b[0mobj\u001b[0m\u001b[0;34m,\u001b[0m \u001b[0mend\u001b[0m\u001b[0;34m\u001b[0m\u001b[0;34m\u001b[0m\u001b[0m\n",
      "\u001b[0;31mJSONDecodeError\u001b[0m: Expecting value: line 1 column 1 (char 0)"
     ]
    }
   ],
   "source": [
    "df_stats = get_user_stats(username)\n",
    "df_stats"
   ]
  },
  {
   "cell_type": "code",
   "execution_count": null,
   "id": "257ef1c8",
   "metadata": {},
   "outputs": [],
   "source": []
  }
 ],
 "metadata": {
  "kernelspec": {
   "display_name": "Python 3",
   "language": "python",
   "name": "python3"
  },
  "language_info": {
   "codemirror_mode": {
    "name": "ipython",
    "version": 3
   },
   "file_extension": ".py",
   "mimetype": "text/x-python",
   "name": "python",
   "nbconvert_exporter": "python",
   "pygments_lexer": "ipython3",
   "version": "3.8.8"
  }
 },
 "nbformat": 4,
 "nbformat_minor": 5
}
